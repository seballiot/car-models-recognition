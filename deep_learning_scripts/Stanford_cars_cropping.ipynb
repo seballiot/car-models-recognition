{
  "nbformat": 4,
  "nbformat_minor": 0,
  "metadata": {
    "colab": {
      "name": "Stanford_cars_cropping.ipynb",
      "provenance": [],
      "collapsed_sections": []
    },
    "kernelspec": {
      "name": "python3",
      "display_name": "Python 3"
    },
    "language_info": {
      "name": "python"
    },
    "accelerator": "GPU"
  },
  "cells": [
    {
      "cell_type": "markdown",
      "metadata": {
        "id": "koZpZYVG6MWL"
      },
      "source": [
        "# Cropping des images\n",
        "\n",
        "A partir des informations des fichiers `anno_train.csv` et `anno_test.csv`, cropping des images sources et enregistrement dans un dossier `cars_cropped` (en conservant la même arborescence `cars_cropped/{nom_marque}/{image*}`\n",
        "\n",
        "### Fonctionnnement\n",
        "\n",
        "Les deux fichiers `annotation` contiennent des `Bounding box annotations of images`, on se sert de ces informations pour faire le resize de l'image avec un zoom sur le véhicule pour limiter le bruit et optimiser l'apprentissage du modèle.\n",
        "\n",
        "Algo inspiré par https://www.kaggle.com/hengzheng/dog-breeds-classifier#crop-and-save-pictures"
      ]
    },
    {
      "cell_type": "code",
      "metadata": {
        "id": "VWGgjoMVFbAG"
      },
      "source": [
        "import os\n",
        "import pandas as pd\n",
        "from PIL import Image"
      ],
      "execution_count": null,
      "outputs": []
    },
    {
      "cell_type": "code",
      "metadata": {
        "colab": {
          "base_uri": "https://localhost:8080/"
        },
        "id": "ohh2SlP0FwI8",
        "outputId": "560e3ec0-5c8c-42fd-bd1e-70dbde1dec29"
      },
      "source": [
        "from google.colab import drive\n",
        "drive.mount('/content/drive')"
      ],
      "execution_count": null,
      "outputs": [
        {
          "output_type": "stream",
          "text": [
            "Mounted at /content/drive\n"
          ],
          "name": "stdout"
        }
      ]
    },
    {
      "cell_type": "code",
      "metadata": {
        "id": "anzFVUF3Fd3R"
      },
      "source": [
        "drive_path = \"/content/drive/MyDrive/TP_cars\""
      ],
      "execution_count": null,
      "outputs": []
    },
    {
      "cell_type": "code",
      "metadata": {
        "colab": {
          "base_uri": "https://localhost:8080/"
        },
        "id": "AoRiQCJDFhN8",
        "outputId": "34e80551-c8fd-4462-b5f9-1763aeebf6c4"
      },
      "source": [
        "os.listdir(drive_path)"
      ],
      "execution_count": null,
      "outputs": [
        {
          "output_type": "execute_result",
          "data": {
            "text/plain": [
              "['anno_train.csv',\n",
              " 'anno_test.csv',\n",
              " 'names.csv',\n",
              " 'car_data',\n",
              " 'Incept_20e196c',\n",
              " 'cars_cropped']"
            ]
          },
          "metadata": {
            "tags": []
          },
          "execution_count": 3
        }
      ]
    },
    {
      "cell_type": "markdown",
      "metadata": {
        "id": "jEIOBgytGqXD"
      },
      "source": [
        "---"
      ]
    },
    {
      "cell_type": "code",
      "metadata": {
        "colab": {
          "base_uri": "https://localhost:8080/"
        },
        "id": "NS0J_s6_0ZyZ",
        "outputId": "94890bfe-a1d8-4fa3-eba7-f3bdfca5e914"
      },
      "source": [
        "# Check train\n",
        "print(len(os.listdir(drive_path+'/car_data/train/')))\n",
        "\n",
        "n = 0\n",
        "for folder in os.listdir(drive_path+'/car_data/train/'):\n",
        "  n+=len(os.listdir(drive_path+'/car_data/train/'+folder))\n",
        "print(n)\n",
        "\n",
        "# 196, 8104"
      ],
      "execution_count": null,
      "outputs": [
        {
          "output_type": "stream",
          "text": [
            "196\n",
            "8104\n"
          ],
          "name": "stdout"
        }
      ]
    },
    {
      "cell_type": "code",
      "metadata": {
        "colab": {
          "base_uri": "https://localhost:8080/"
        },
        "id": "yIp00mfqEl22",
        "outputId": "b03bedaf-753b-46b4-f032-240e303839d9"
      },
      "source": [
        "# Check test\n",
        "print(len(os.listdir(drive_path+'/car_data/test/')))\n",
        "\n",
        "n = 0\n",
        "for folder in os.listdir(drive_path+'/car_data/test/'):\n",
        "  n+=len(os.listdir(drive_path+'/car_data/test/'+folder))\n",
        "print(n)\n",
        "\n",
        "# 196, 8041"
      ],
      "execution_count": null,
      "outputs": [
        {
          "output_type": "stream",
          "text": [
            "196\n",
            "8041\n"
          ],
          "name": "stdout"
        }
      ]
    },
    {
      "cell_type": "markdown",
      "metadata": {
        "id": "riyps6Jm7Ocd"
      },
      "source": [
        "### CROPPING TRAIN"
      ]
    },
    {
      "cell_type": "code",
      "metadata": {
        "id": "i2qaA2iMGAfn",
        "colab": {
          "base_uri": "https://localhost:8080/",
          "height": 419
        },
        "outputId": "881f41ad-a335-43ac-fb65-ad5d0fc164a9"
      },
      "source": [
        "train_annotations = pd.read_csv(drive_path+'/anno_train.csv', header=None)\n",
        "train_annotations"
      ],
      "execution_count": null,
      "outputs": [
        {
          "output_type": "execute_result",
          "data": {
            "text/html": [
              "<div>\n",
              "<style scoped>\n",
              "    .dataframe tbody tr th:only-of-type {\n",
              "        vertical-align: middle;\n",
              "    }\n",
              "\n",
              "    .dataframe tbody tr th {\n",
              "        vertical-align: top;\n",
              "    }\n",
              "\n",
              "    .dataframe thead th {\n",
              "        text-align: right;\n",
              "    }\n",
              "</style>\n",
              "<table border=\"1\" class=\"dataframe\">\n",
              "  <thead>\n",
              "    <tr style=\"text-align: right;\">\n",
              "      <th></th>\n",
              "      <th>0</th>\n",
              "      <th>1</th>\n",
              "      <th>2</th>\n",
              "      <th>3</th>\n",
              "      <th>4</th>\n",
              "      <th>5</th>\n",
              "    </tr>\n",
              "  </thead>\n",
              "  <tbody>\n",
              "    <tr>\n",
              "      <th>0</th>\n",
              "      <td>00001.jpg</td>\n",
              "      <td>39</td>\n",
              "      <td>116</td>\n",
              "      <td>569</td>\n",
              "      <td>375</td>\n",
              "      <td>14</td>\n",
              "    </tr>\n",
              "    <tr>\n",
              "      <th>1</th>\n",
              "      <td>00002.jpg</td>\n",
              "      <td>36</td>\n",
              "      <td>116</td>\n",
              "      <td>868</td>\n",
              "      <td>587</td>\n",
              "      <td>3</td>\n",
              "    </tr>\n",
              "    <tr>\n",
              "      <th>2</th>\n",
              "      <td>00003.jpg</td>\n",
              "      <td>85</td>\n",
              "      <td>109</td>\n",
              "      <td>601</td>\n",
              "      <td>381</td>\n",
              "      <td>91</td>\n",
              "    </tr>\n",
              "    <tr>\n",
              "      <th>3</th>\n",
              "      <td>00004.jpg</td>\n",
              "      <td>621</td>\n",
              "      <td>393</td>\n",
              "      <td>1484</td>\n",
              "      <td>1096</td>\n",
              "      <td>134</td>\n",
              "    </tr>\n",
              "    <tr>\n",
              "      <th>4</th>\n",
              "      <td>00005.jpg</td>\n",
              "      <td>14</td>\n",
              "      <td>36</td>\n",
              "      <td>133</td>\n",
              "      <td>99</td>\n",
              "      <td>106</td>\n",
              "    </tr>\n",
              "    <tr>\n",
              "      <th>...</th>\n",
              "      <td>...</td>\n",
              "      <td>...</td>\n",
              "      <td>...</td>\n",
              "      <td>...</td>\n",
              "      <td>...</td>\n",
              "      <td>...</td>\n",
              "    </tr>\n",
              "    <tr>\n",
              "      <th>8139</th>\n",
              "      <td>08140.jpg</td>\n",
              "      <td>3</td>\n",
              "      <td>44</td>\n",
              "      <td>423</td>\n",
              "      <td>336</td>\n",
              "      <td>78</td>\n",
              "    </tr>\n",
              "    <tr>\n",
              "      <th>8140</th>\n",
              "      <td>08141.jpg</td>\n",
              "      <td>138</td>\n",
              "      <td>150</td>\n",
              "      <td>706</td>\n",
              "      <td>523</td>\n",
              "      <td>196</td>\n",
              "    </tr>\n",
              "    <tr>\n",
              "      <th>8141</th>\n",
              "      <td>08142.jpg</td>\n",
              "      <td>26</td>\n",
              "      <td>246</td>\n",
              "      <td>660</td>\n",
              "      <td>449</td>\n",
              "      <td>163</td>\n",
              "    </tr>\n",
              "    <tr>\n",
              "      <th>8142</th>\n",
              "      <td>08143.jpg</td>\n",
              "      <td>78</td>\n",
              "      <td>526</td>\n",
              "      <td>1489</td>\n",
              "      <td>908</td>\n",
              "      <td>112</td>\n",
              "    </tr>\n",
              "    <tr>\n",
              "      <th>8143</th>\n",
              "      <td>08144.jpg</td>\n",
              "      <td>20</td>\n",
              "      <td>240</td>\n",
              "      <td>862</td>\n",
              "      <td>677</td>\n",
              "      <td>17</td>\n",
              "    </tr>\n",
              "  </tbody>\n",
              "</table>\n",
              "<p>8144 rows × 6 columns</p>\n",
              "</div>"
            ],
            "text/plain": [
              "              0    1    2     3     4    5\n",
              "0     00001.jpg   39  116   569   375   14\n",
              "1     00002.jpg   36  116   868   587    3\n",
              "2     00003.jpg   85  109   601   381   91\n",
              "3     00004.jpg  621  393  1484  1096  134\n",
              "4     00005.jpg   14   36   133    99  106\n",
              "...         ...  ...  ...   ...   ...  ...\n",
              "8139  08140.jpg    3   44   423   336   78\n",
              "8140  08141.jpg  138  150   706   523  196\n",
              "8141  08142.jpg   26  246   660   449  163\n",
              "8142  08143.jpg   78  526  1489   908  112\n",
              "8143  08144.jpg   20  240   862   677   17\n",
              "\n",
              "[8144 rows x 6 columns]"
            ]
          },
          "metadata": {
            "tags": []
          },
          "execution_count": 11
        }
      ]
    },
    {
      "cell_type": "code",
      "metadata": {
        "id": "C9OYIxzclEQ3"
      },
      "source": [
        "%%time\n",
        "\n",
        "train_folder = drive_path+'/car_data/train/'\n",
        "train_cropped_folder = drive_path+'/cars_cropped/train/'\n",
        "\n",
        "n_image =0\n",
        "n_folder = 1\n",
        "for folder in os.listdir(train_folder):\n",
        "  print(f\"Dossier : {str(n_folder)}/115\")\n",
        "\n",
        "  if not os.path.exists(train_cropped_folder+folder):\n",
        "    os.makedirs(train_cropped_folder+folder)\n",
        "\n",
        "    for filename in os.listdir(train_folder+folder):\n",
        "\n",
        "      img_annotation = train_annotations[train_annotations[0] == filename]\n",
        "\n",
        "      image = Image.open(train_folder+folder+'/'+filename)\n",
        "      \n",
        "      xmin = img_annotation[1]\n",
        "      ymin = img_annotation[2]\n",
        "\n",
        "      xmax = img_annotation[3]\n",
        "      ymax = img_annotation[4]\n",
        "\n",
        "      image = image.crop((xmin, ymin, xmax, ymax))\n",
        "      image = image.convert('RGB')\n",
        "      image = image.resize((224, 224))\n",
        "        \n",
        "      image.save(train_cropped_folder+folder+'/'+filename)\n",
        "\n",
        "      n_image +=1\n",
        "    n_folder +=1\n",
        "\n",
        "print('Fin cropping train : ')\n",
        "print(n_folder, n_image)"
      ],
      "execution_count": null,
      "outputs": []
    },
    {
      "cell_type": "markdown",
      "metadata": {
        "id": "FSew39DX79go"
      },
      "source": [
        "### CROPPING TEST"
      ]
    },
    {
      "cell_type": "code",
      "metadata": {
        "colab": {
          "base_uri": "https://localhost:8080/",
          "height": 419
        },
        "id": "A9qPyORVJNFG",
        "outputId": "3c56d29e-018d-4813-c956-67733e8d4663"
      },
      "source": [
        "test_annotations = pd.read_csv(drive_path+'/anno_test.csv', header=None)\n",
        "test_annotations"
      ],
      "execution_count": null,
      "outputs": [
        {
          "output_type": "execute_result",
          "data": {
            "text/html": [
              "<div>\n",
              "<style scoped>\n",
              "    .dataframe tbody tr th:only-of-type {\n",
              "        vertical-align: middle;\n",
              "    }\n",
              "\n",
              "    .dataframe tbody tr th {\n",
              "        vertical-align: top;\n",
              "    }\n",
              "\n",
              "    .dataframe thead th {\n",
              "        text-align: right;\n",
              "    }\n",
              "</style>\n",
              "<table border=\"1\" class=\"dataframe\">\n",
              "  <thead>\n",
              "    <tr style=\"text-align: right;\">\n",
              "      <th></th>\n",
              "      <th>0</th>\n",
              "      <th>1</th>\n",
              "      <th>2</th>\n",
              "      <th>3</th>\n",
              "      <th>4</th>\n",
              "      <th>5</th>\n",
              "    </tr>\n",
              "  </thead>\n",
              "  <tbody>\n",
              "    <tr>\n",
              "      <th>0</th>\n",
              "      <td>00001.jpg</td>\n",
              "      <td>30</td>\n",
              "      <td>52</td>\n",
              "      <td>246</td>\n",
              "      <td>147</td>\n",
              "      <td>181</td>\n",
              "    </tr>\n",
              "    <tr>\n",
              "      <th>1</th>\n",
              "      <td>00002.jpg</td>\n",
              "      <td>100</td>\n",
              "      <td>19</td>\n",
              "      <td>576</td>\n",
              "      <td>203</td>\n",
              "      <td>103</td>\n",
              "    </tr>\n",
              "    <tr>\n",
              "      <th>2</th>\n",
              "      <td>00003.jpg</td>\n",
              "      <td>51</td>\n",
              "      <td>105</td>\n",
              "      <td>968</td>\n",
              "      <td>659</td>\n",
              "      <td>145</td>\n",
              "    </tr>\n",
              "    <tr>\n",
              "      <th>3</th>\n",
              "      <td>00004.jpg</td>\n",
              "      <td>67</td>\n",
              "      <td>84</td>\n",
              "      <td>581</td>\n",
              "      <td>407</td>\n",
              "      <td>187</td>\n",
              "    </tr>\n",
              "    <tr>\n",
              "      <th>4</th>\n",
              "      <td>00005.jpg</td>\n",
              "      <td>140</td>\n",
              "      <td>151</td>\n",
              "      <td>593</td>\n",
              "      <td>339</td>\n",
              "      <td>185</td>\n",
              "    </tr>\n",
              "    <tr>\n",
              "      <th>...</th>\n",
              "      <td>...</td>\n",
              "      <td>...</td>\n",
              "      <td>...</td>\n",
              "      <td>...</td>\n",
              "      <td>...</td>\n",
              "      <td>...</td>\n",
              "    </tr>\n",
              "    <tr>\n",
              "      <th>8036</th>\n",
              "      <td>08037.jpg</td>\n",
              "      <td>49</td>\n",
              "      <td>57</td>\n",
              "      <td>1169</td>\n",
              "      <td>669</td>\n",
              "      <td>63</td>\n",
              "    </tr>\n",
              "    <tr>\n",
              "      <th>8037</th>\n",
              "      <td>08038.jpg</td>\n",
              "      <td>23</td>\n",
              "      <td>18</td>\n",
              "      <td>640</td>\n",
              "      <td>459</td>\n",
              "      <td>16</td>\n",
              "    </tr>\n",
              "    <tr>\n",
              "      <th>8038</th>\n",
              "      <td>08039.jpg</td>\n",
              "      <td>33</td>\n",
              "      <td>27</td>\n",
              "      <td>602</td>\n",
              "      <td>252</td>\n",
              "      <td>17</td>\n",
              "    </tr>\n",
              "    <tr>\n",
              "      <th>8039</th>\n",
              "      <td>08040.jpg</td>\n",
              "      <td>33</td>\n",
              "      <td>142</td>\n",
              "      <td>521</td>\n",
              "      <td>376</td>\n",
              "      <td>38</td>\n",
              "    </tr>\n",
              "    <tr>\n",
              "      <th>8040</th>\n",
              "      <td>08041.jpg</td>\n",
              "      <td>77</td>\n",
              "      <td>73</td>\n",
              "      <td>506</td>\n",
              "      <td>380</td>\n",
              "      <td>32</td>\n",
              "    </tr>\n",
              "  </tbody>\n",
              "</table>\n",
              "<p>8041 rows × 6 columns</p>\n",
              "</div>"
            ],
            "text/plain": [
              "              0    1    2     3    4    5\n",
              "0     00001.jpg   30   52   246  147  181\n",
              "1     00002.jpg  100   19   576  203  103\n",
              "2     00003.jpg   51  105   968  659  145\n",
              "3     00004.jpg   67   84   581  407  187\n",
              "4     00005.jpg  140  151   593  339  185\n",
              "...         ...  ...  ...   ...  ...  ...\n",
              "8036  08037.jpg   49   57  1169  669   63\n",
              "8037  08038.jpg   23   18   640  459   16\n",
              "8038  08039.jpg   33   27   602  252   17\n",
              "8039  08040.jpg   33  142   521  376   38\n",
              "8040  08041.jpg   77   73   506  380   32\n",
              "\n",
              "[8041 rows x 6 columns]"
            ]
          },
          "metadata": {
            "tags": []
          },
          "execution_count": 15
        }
      ]
    },
    {
      "cell_type": "code",
      "metadata": {
        "colab": {
          "base_uri": "https://localhost:8080/"
        },
        "id": "3-PkmTNFrACZ",
        "outputId": "021e7da9-3656-417b-91d7-15e8e87730af"
      },
      "source": [
        "%%time\n",
        "\n",
        "test_folder = drive_path+'/car_data/test/'\n",
        "test_cropped_folder = drive_path+'/cars_cropped/test/'\n",
        "\n",
        "n_image =0\n",
        "n_folder = 1\n",
        "for folder in os.listdir(test_folder):\n",
        "  print(f\"Dossier : {str(n_folder)}/196\")\n",
        "\n",
        "  if not os.path.exists(test_cropped_folder+folder):\n",
        "      os.makedirs(test_cropped_folder+folder)\n",
        "\n",
        "  for filename in os.listdir(test_folder+folder):\n",
        "\n",
        "    img_annotation = test_annotations[test_annotations[0] == filename]\n",
        "\n",
        "    image = Image.open(test_folder+folder+'/'+filename)\n",
        "    \n",
        "    xmin = img_annotation[1]\n",
        "    ymin = img_annotation[2]\n",
        "\n",
        "    xmax = img_annotation[3]\n",
        "    ymax = img_annotation[4]\n",
        "\n",
        "    image = image.crop((xmin, ymin, xmax, ymax))\n",
        "    image = image.convert('RGB')\n",
        "    image = image.resize((224, 224))\n",
        "    image.save(test_cropped_folder+folder+'/'+filename)\n",
        "\n",
        "    n_image+=1\n",
        "  n_folder+=1\n",
        "\n",
        "print('Fin cropping test : ')\n",
        "print(n_folder, n_image)"
      ],
      "execution_count": null,
      "outputs": [
        {
          "output_type": "stream",
          "text": [
            "Dossier : 1/196\n",
            "Dossier : 2/196\n",
            "Dossier : 3/196\n",
            "Dossier : 4/196\n",
            "Dossier : 5/196\n",
            "Dossier : 6/196\n",
            "Dossier : 7/196\n",
            "Dossier : 8/196\n",
            "Dossier : 9/196\n",
            "Dossier : 10/196\n",
            "Dossier : 11/196\n",
            "Dossier : 12/196\n",
            "Dossier : 13/196\n",
            "Dossier : 14/196\n",
            "Dossier : 15/196\n",
            "Dossier : 16/196\n",
            "Dossier : 17/196\n",
            "Dossier : 18/196\n",
            "Dossier : 19/196\n",
            "Dossier : 20/196\n",
            "Dossier : 21/196\n",
            "Dossier : 22/196\n",
            "Dossier : 23/196\n",
            "Dossier : 24/196\n",
            "Dossier : 25/196\n",
            "Dossier : 26/196\n",
            "Dossier : 27/196\n",
            "Dossier : 28/196\n",
            "Dossier : 29/196\n",
            "Dossier : 30/196\n",
            "Dossier : 31/196\n",
            "Dossier : 32/196\n",
            "Dossier : 33/196\n",
            "Dossier : 34/196\n",
            "Dossier : 35/196\n",
            "Dossier : 36/196\n",
            "Dossier : 37/196\n",
            "Dossier : 38/196\n",
            "Dossier : 39/196\n",
            "Dossier : 40/196\n",
            "Dossier : 41/196\n",
            "Dossier : 42/196\n",
            "Dossier : 43/196\n",
            "Dossier : 44/196\n",
            "Dossier : 45/196\n",
            "Dossier : 46/196\n",
            "Dossier : 47/196\n",
            "Dossier : 48/196\n",
            "Dossier : 49/196\n",
            "Dossier : 50/196\n",
            "Dossier : 51/196\n",
            "Dossier : 52/196\n",
            "Dossier : 53/196\n",
            "Dossier : 54/196\n",
            "Dossier : 55/196\n",
            "Dossier : 56/196\n",
            "Dossier : 57/196\n",
            "Dossier : 58/196\n",
            "Dossier : 59/196\n",
            "Dossier : 60/196\n",
            "Dossier : 61/196\n",
            "Dossier : 62/196\n",
            "Dossier : 63/196\n",
            "Dossier : 64/196\n",
            "Dossier : 65/196\n",
            "Dossier : 66/196\n",
            "Dossier : 67/196\n",
            "Dossier : 68/196\n",
            "Dossier : 69/196\n",
            "Dossier : 70/196\n",
            "Dossier : 71/196\n",
            "Dossier : 72/196\n",
            "Dossier : 73/196\n",
            "Dossier : 74/196\n",
            "Dossier : 75/196\n",
            "Dossier : 76/196\n",
            "Dossier : 77/196\n",
            "Dossier : 78/196\n",
            "Dossier : 79/196\n",
            "Dossier : 80/196\n",
            "Dossier : 81/196\n",
            "Dossier : 82/196\n",
            "Dossier : 83/196\n",
            "Dossier : 84/196\n",
            "Dossier : 85/196\n",
            "Dossier : 86/196\n",
            "Dossier : 87/196\n",
            "Dossier : 88/196\n",
            "Dossier : 89/196\n",
            "Dossier : 90/196\n",
            "Dossier : 91/196\n",
            "Dossier : 92/196\n",
            "Dossier : 93/196\n",
            "Dossier : 94/196\n",
            "Dossier : 95/196\n",
            "Dossier : 96/196\n",
            "Dossier : 97/196\n",
            "Dossier : 98/196\n",
            "Dossier : 99/196\n",
            "Dossier : 100/196\n",
            "Dossier : 101/196\n",
            "Dossier : 102/196\n",
            "Dossier : 103/196\n",
            "Dossier : 104/196\n",
            "Dossier : 105/196\n",
            "Dossier : 106/196\n",
            "Dossier : 107/196\n",
            "Dossier : 108/196\n",
            "Dossier : 109/196\n",
            "Dossier : 110/196\n",
            "Dossier : 111/196\n",
            "Dossier : 112/196\n",
            "Dossier : 113/196\n",
            "Dossier : 114/196\n",
            "Dossier : 115/196\n",
            "Dossier : 116/196\n",
            "Dossier : 117/196\n",
            "Dossier : 118/196\n",
            "Dossier : 119/196\n",
            "Dossier : 120/196\n",
            "Dossier : 121/196\n",
            "Dossier : 122/196\n",
            "Dossier : 123/196\n",
            "Dossier : 124/196\n",
            "Dossier : 125/196\n",
            "Dossier : 126/196\n",
            "Dossier : 127/196\n",
            "Dossier : 128/196\n",
            "Dossier : 129/196\n",
            "Dossier : 130/196\n",
            "Dossier : 131/196\n",
            "Dossier : 132/196\n",
            "Dossier : 133/196\n",
            "Dossier : 134/196\n",
            "Dossier : 135/196\n",
            "Dossier : 136/196\n",
            "Dossier : 137/196\n",
            "Dossier : 138/196\n",
            "Dossier : 139/196\n",
            "Dossier : 140/196\n",
            "Dossier : 141/196\n",
            "Dossier : 142/196\n",
            "Dossier : 143/196\n",
            "Dossier : 144/196\n",
            "Dossier : 145/196\n",
            "Dossier : 146/196\n",
            "Dossier : 147/196\n",
            "Dossier : 148/196\n",
            "Dossier : 149/196\n",
            "Dossier : 150/196\n",
            "Dossier : 151/196\n",
            "Dossier : 152/196\n",
            "Dossier : 153/196\n",
            "Dossier : 154/196\n",
            "Dossier : 155/196\n",
            "Dossier : 156/196\n",
            "Dossier : 157/196\n",
            "Dossier : 158/196\n",
            "Dossier : 159/196\n",
            "Dossier : 160/196\n",
            "Dossier : 161/196\n",
            "Dossier : 162/196\n",
            "Dossier : 163/196\n",
            "Dossier : 164/196\n",
            "Dossier : 165/196\n",
            "Dossier : 166/196\n",
            "Dossier : 167/196\n",
            "Dossier : 168/196\n",
            "Dossier : 169/196\n",
            "Dossier : 170/196\n",
            "Dossier : 171/196\n",
            "Dossier : 172/196\n",
            "Dossier : 173/196\n",
            "Dossier : 174/196\n",
            "Dossier : 175/196\n",
            "Dossier : 176/196\n",
            "Dossier : 177/196\n",
            "Dossier : 178/196\n",
            "Dossier : 179/196\n",
            "Dossier : 180/196\n",
            "Dossier : 181/196\n",
            "Dossier : 182/196\n",
            "Dossier : 183/196\n",
            "Dossier : 184/196\n",
            "Dossier : 185/196\n",
            "Dossier : 186/196\n",
            "Dossier : 187/196\n",
            "Dossier : 188/196\n",
            "Dossier : 189/196\n",
            "Dossier : 190/196\n",
            "Dossier : 191/196\n",
            "Dossier : 192/196\n",
            "Dossier : 193/196\n",
            "Dossier : 194/196\n",
            "Dossier : 195/196\n",
            "Dossier : 196/196\n",
            "Fin cropping test : \n",
            "197 8041\n",
            "CPU times: user 2min 56s, sys: 18.1 s, total: 3min 14s\n",
            "Wall time: 1h 27min 9s\n"
          ],
          "name": "stdout"
        }
      ]
    },
    {
      "cell_type": "code",
      "metadata": {
        "id": "eCFOK2VVllvk"
      },
      "source": [
        ""
      ],
      "execution_count": null,
      "outputs": []
    }
  ]
}